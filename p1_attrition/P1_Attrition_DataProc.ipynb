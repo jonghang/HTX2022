{
 "cells": [
  {
   "cell_type": "markdown",
   "id": "f5bc65ab-1ba6-4919-bdd9-24a21448ed0c",
   "metadata": {},
   "source": [
    "# P1 Data Processing - Attrition"
   ]
  },
  {
   "cell_type": "code",
   "execution_count": 3,
   "id": "2e49538d-1784-4f34-96c6-29286a6fa9de",
   "metadata": {},
   "outputs": [],
   "source": [
    "import os\n",
    "import pandas as pd\n",
    "import matplotlib.pyplot as plt\n",
    "import numpy as np\n",
    "import seaborn as sns\n",
    "from glob import glob"
   ]
  },
  {
   "cell_type": "code",
   "execution_count": 2,
   "id": "cffd5755-a8bf-4332-8a8e-e174c461d999",
   "metadata": {},
   "outputs": [],
   "source": [
    "DATA_DIR = os.path.join(os.environ[\"HOME\"], \"Datasets\", \"HTX_Hackathon\",\"ps1-attrition_profiles\")"
   ]
  },
  {
   "cell_type": "markdown",
   "id": "b67311dc-7279-44fe-82ea-2450de3ef302",
   "metadata": {},
   "source": [
    "# Data At A Glance"
   ]
  },
  {
   "cell_type": "code",
   "execution_count": 4,
   "id": "78533df7-862f-4b87-aecb-23c415835dda",
   "metadata": {},
   "outputs": [
    {
     "data": {
      "text/plain": [
       "['/Users/jonghang/Datasets/HTX_Hackathon/ps1-attrition_profiles/out_time.csv',\n",
       " '/Users/jonghang/Datasets/HTX_Hackathon/ps1-attrition_profiles/employee_survey_data.csv',\n",
       " '/Users/jonghang/Datasets/HTX_Hackathon/ps1-attrition_profiles/manager_survey_data.csv',\n",
       " '/Users/jonghang/Datasets/HTX_Hackathon/ps1-attrition_profiles/in_time.csv',\n",
       " '/Users/jonghang/Datasets/HTX_Hackathon/ps1-attrition_profiles/general_data.csv']"
      ]
     },
     "execution_count": 4,
     "metadata": {},
     "output_type": "execute_result"
    }
   ],
   "source": [
    "p1_files = glob(os.path.join(DATA_DIR, \"*.csv\"))\n",
    "\n",
    "p1_files[:5]"
   ]
  },
  {
   "cell_type": "code",
   "execution_count": null,
   "id": "b1922782-5402-4e7e-a02a-e54a8beaa5dc",
   "metadata": {},
   "outputs": [],
   "source": []
  }
 ],
 "metadata": {
  "kernelspec": {
   "display_name": "Python 3 (ipykernel)",
   "language": "python",
   "name": "python3"
  },
  "language_info": {
   "codemirror_mode": {
    "name": "ipython",
    "version": 3
   },
   "file_extension": ".py",
   "mimetype": "text/x-python",
   "name": "python",
   "nbconvert_exporter": "python",
   "pygments_lexer": "ipython3",
   "version": "3.9.13"
  }
 },
 "nbformat": 4,
 "nbformat_minor": 5
}
