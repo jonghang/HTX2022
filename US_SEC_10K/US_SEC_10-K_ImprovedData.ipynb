{
 "cells": [
  {
   "cell_type": "code",
   "execution_count": 1,
   "metadata": {
    "collapsed": false,
    "pycharm": {
     "name": "#%%\n"
    }
   },
   "outputs": [],
   "source": [
    "import os\n",
    "import re\n",
    "from glob import glob\n",
    "\n",
    "import numpy as np\n",
    "import pandas as pd\n",
    "\n",
    "DATA_DIR = os.path.join(os.environ[\"HOME\"], \"Datasets\",\n",
    "                        \"Financial\",\"SEC_10K\")\n",
    "\n",
    "ML_DATA_DIR = os.path.join(DATA_DIR, \"ML_Dataset\")"
   ]
  },
  {
   "cell_type": "markdown",
   "metadata": {
    "collapsed": false,
    "pycharm": {
     "name": "#%% md\n"
    }
   },
   "source": [
    "# Read Data"
   ]
  },
  {
   "cell_type": "code",
   "execution_count": 2,
   "metadata": {
    "collapsed": false,
    "pycharm": {
     "name": "#%%\n"
    }
   },
   "outputs": [
    {
     "data": {
      "text/plain": [
       "(17095, 11)"
      ]
     },
     "metadata": {},
     "output_type": "display_data"
    },
    {
     "data": {
      "text/html": [
       "<div>\n",
       "<style scoped>\n",
       "    .dataframe tbody tr th:only-of-type {\n",
       "        vertical-align: middle;\n",
       "    }\n",
       "\n",
       "    .dataframe tbody tr th {\n",
       "        vertical-align: top;\n",
       "    }\n",
       "\n",
       "    .dataframe thead th {\n",
       "        text-align: right;\n",
       "    }\n",
       "</style>\n",
       "<table border=\"1\" class=\"dataframe\">\n",
       "  <thead>\n",
       "    <tr style=\"text-align: right;\">\n",
       "      <th></th>\n",
       "      <th>ID_CIK_YEAR</th>\n",
       "      <th>CIK</th>\n",
       "      <th>YEAR</th>\n",
       "      <th>CLEANED_ITEM_1A</th>\n",
       "      <th>CLEANED_ITEM_7</th>\n",
       "      <th>CLEANED_ITEM_7A</th>\n",
       "      <th>SP_500</th>\n",
       "      <th>SYMBOL</th>\n",
       "      <th>COMPANY</th>\n",
       "      <th>COUNTRY</th>\n",
       "      <th>INDUSTRY</th>\n",
       "    </tr>\n",
       "  </thead>\n",
       "  <tbody>\n",
       "    <tr>\n",
       "      <th>0</th>\n",
       "      <td>ID_0000008858_2019</td>\n",
       "      <td>0000008858</td>\n",
       "      <td>2019</td>\n",
       "      <td>principal risks inherent business affected fac...</td>\n",
       "      <td>condition results operations dollars millions ...</td>\n",
       "      <td>risk exposure market risk includes fluctuating...</td>\n",
       "      <td>0</td>\n",
       "      <td>AVT</td>\n",
       "      <td>AVNET INC. COMMON STOCK</td>\n",
       "      <td>UNITED STATES</td>\n",
       "      <td>ELECTRONIC COMPONENTS</td>\n",
       "    </tr>\n",
       "    <tr>\n",
       "      <th>1</th>\n",
       "      <td>ID_0000067347_2021</td>\n",
       "      <td>0000067347</td>\n",
       "      <td>2021</td>\n",
       "      <td>risks inherent business risks uncertainties de...</td>\n",
       "      <td>condition results operations dollars millions ...</td>\n",
       "      <td>exposure market risk includes fluctuating inte...</td>\n",
       "      <td>0</td>\n",
       "      <td>MOD</td>\n",
       "      <td>MODINE MANUFACTURING COMPANY COMMON STOCK</td>\n",
       "      <td>UNITED STATES</td>\n",
       "      <td>AUTO PARTS:O.E.M.</td>\n",
       "    </tr>\n",
       "    <tr>\n",
       "      <th>2</th>\n",
       "      <td>ID_0000030697_2018</td>\n",
       "      <td>0000030697</td>\n",
       "      <td>2018</td>\n",
       "      <td>principal risks inherent business affected fac...</td>\n",
       "      <td>condition results operations dollars millions ...</td>\n",
       "      <td>risk exposure market risk includes fluctuating...</td>\n",
       "      <td>0</td>\n",
       "      <td>WEN</td>\n",
       "      <td>WENDY'S COMPANY (THE) COMMON STOCK</td>\n",
       "      <td>UNITED STATES</td>\n",
       "      <td>RESTAURANTS</td>\n",
       "    </tr>\n",
       "    <tr>\n",
       "      <th>3</th>\n",
       "      <td>ID_0000072444_2017</td>\n",
       "      <td>0000072444</td>\n",
       "      <td>2017</td>\n",
       "      <td>principal risks inherent business affected fac...</td>\n",
       "      <td>condition results operations dollars millions ...</td>\n",
       "      <td>risk dollars millions exposure market risk inc...</td>\n",
       "      <td>0</td>\n",
       "      <td>VXRT</td>\n",
       "      <td>VAXART INC COMMON STOCK</td>\n",
       "      <td>UNITED STATES</td>\n",
       "      <td>BIOTECHNOLOGY: BIOLOGICAL PRODUCTS (NO DIAGNOS...</td>\n",
       "    </tr>\n",
       "    <tr>\n",
       "      <th>4</th>\n",
       "      <td>ID_0000065596_2020</td>\n",
       "      <td>0000065596</td>\n",
       "      <td>2020</td>\n",
       "      <td>risks inherent businesswe affected factors adv...</td>\n",
       "      <td>condition results operations dollars millions ...</td>\n",
       "      <td>exposure market risk includes fluctuating inte...</td>\n",
       "      <td>0</td>\n",
       "      <td>SIEB</td>\n",
       "      <td>SIEBERT FINANCIAL CORP. COMMON STOCK</td>\n",
       "      <td>UNITED STATES</td>\n",
       "      <td>INVESTMENT BANKERS/BROKERS/SERVICE</td>\n",
       "    </tr>\n",
       "  </tbody>\n",
       "</table>\n",
       "</div>"
      ],
      "text/plain": [
       "          ID_CIK_YEAR         CIK  YEAR  \\\n",
       "0  ID_0000008858_2019  0000008858  2019   \n",
       "1  ID_0000067347_2021  0000067347  2021   \n",
       "2  ID_0000030697_2018  0000030697  2018   \n",
       "3  ID_0000072444_2017  0000072444  2017   \n",
       "4  ID_0000065596_2020  0000065596  2020   \n",
       "\n",
       "                                     CLEANED_ITEM_1A  \\\n",
       "0  principal risks inherent business affected fac...   \n",
       "1  risks inherent business risks uncertainties de...   \n",
       "2  principal risks inherent business affected fac...   \n",
       "3  principal risks inherent business affected fac...   \n",
       "4  risks inherent businesswe affected factors adv...   \n",
       "\n",
       "                                      CLEANED_ITEM_7  \\\n",
       "0  condition results operations dollars millions ...   \n",
       "1  condition results operations dollars millions ...   \n",
       "2  condition results operations dollars millions ...   \n",
       "3  condition results operations dollars millions ...   \n",
       "4  condition results operations dollars millions ...   \n",
       "\n",
       "                                     CLEANED_ITEM_7A  SP_500 SYMBOL  \\\n",
       "0  risk exposure market risk includes fluctuating...       0    AVT   \n",
       "1  exposure market risk includes fluctuating inte...       0    MOD   \n",
       "2  risk exposure market risk includes fluctuating...       0    WEN   \n",
       "3  risk dollars millions exposure market risk inc...       0   VXRT   \n",
       "4  exposure market risk includes fluctuating inte...       0   SIEB   \n",
       "\n",
       "                                     COMPANY        COUNTRY  \\\n",
       "0                    AVNET INC. COMMON STOCK  UNITED STATES   \n",
       "1  MODINE MANUFACTURING COMPANY COMMON STOCK  UNITED STATES   \n",
       "2         WENDY'S COMPANY (THE) COMMON STOCK  UNITED STATES   \n",
       "3                    VAXART INC COMMON STOCK  UNITED STATES   \n",
       "4       SIEBERT FINANCIAL CORP. COMMON STOCK  UNITED STATES   \n",
       "\n",
       "                                            INDUSTRY  \n",
       "0                              ELECTRONIC COMPONENTS  \n",
       "1                                  AUTO PARTS:O.E.M.  \n",
       "2                                        RESTAURANTS  \n",
       "3  BIOTECHNOLOGY: BIOLOGICAL PRODUCTS (NO DIAGNOS...  \n",
       "4                 INVESTMENT BANKERS/BROKERS/SERVICE  "
      ]
     },
     "metadata": {},
     "output_type": "display_data"
    }
   ],
   "source": [
    "sec10k = pd.read_csv(os.path.join(ML_DATA_DIR, \"SEC_10K_CIK_TickerProfile.csv\"), dtype = {\"CIK\":\"str\"})\n",
    "\n",
    "display(sec10k.shape)\n",
    "display(sec10k.head())"
   ]
  },
  {
   "cell_type": "code",
   "execution_count": 4,
   "metadata": {
    "collapsed": false,
    "pycharm": {
     "name": "#%%\n"
    }
   },
   "outputs": [
    {
     "data": {
      "text/html": [
       "<div>\n",
       "<style scoped>\n",
       "    .dataframe tbody tr th:only-of-type {\n",
       "        vertical-align: middle;\n",
       "    }\n",
       "\n",
       "    .dataframe tbody tr th {\n",
       "        vertical-align: top;\n",
       "    }\n",
       "\n",
       "    .dataframe thead th {\n",
       "        text-align: right;\n",
       "    }\n",
       "</style>\n",
       "<table border=\"1\" class=\"dataframe\">\n",
       "  <thead>\n",
       "    <tr style=\"text-align: right;\">\n",
       "      <th></th>\n",
       "      <th>INDUSTRY</th>\n",
       "      <th>FREQUENCY</th>\n",
       "    </tr>\n",
       "  </thead>\n",
       "  <tbody>\n",
       "    <tr>\n",
       "      <th>0</th>\n",
       "      <td>MAJOR BANKS</td>\n",
       "      <td>1130</td>\n",
       "    </tr>\n",
       "    <tr>\n",
       "      <th>1</th>\n",
       "      <td>BIOTECHNOLOGY: PHARMACEUTICAL PREPARATIONS</td>\n",
       "      <td>840</td>\n",
       "    </tr>\n",
       "    <tr>\n",
       "      <th>2</th>\n",
       "      <td>REAL ESTATE INVESTMENT TRUSTS</td>\n",
       "      <td>645</td>\n",
       "    </tr>\n",
       "    <tr>\n",
       "      <th>3</th>\n",
       "      <td>INDUSTRIAL MACHINERY/COMPONENTS</td>\n",
       "      <td>425</td>\n",
       "    </tr>\n",
       "    <tr>\n",
       "      <th>4</th>\n",
       "      <td>EDP SERVICES</td>\n",
       "      <td>420</td>\n",
       "    </tr>\n",
       "    <tr>\n",
       "      <th>...</th>\n",
       "      <td>...</td>\n",
       "      <td>...</td>\n",
       "    </tr>\n",
       "    <tr>\n",
       "      <th>142</th>\n",
       "      <td>PRECISION INSTRUMENTS</td>\n",
       "      <td>5</td>\n",
       "    </tr>\n",
       "    <tr>\n",
       "      <th>143</th>\n",
       "      <td>DURABLE GOODS</td>\n",
       "      <td>5</td>\n",
       "    </tr>\n",
       "    <tr>\n",
       "      <th>144</th>\n",
       "      <td>SERVICES-MISC. AMUSEMENT &amp; RECREATION</td>\n",
       "      <td>5</td>\n",
       "    </tr>\n",
       "    <tr>\n",
       "      <th>145</th>\n",
       "      <td>DIVERSIFIED ELECTRONIC PRODUCTS</td>\n",
       "      <td>5</td>\n",
       "    </tr>\n",
       "    <tr>\n",
       "      <th>146</th>\n",
       "      <td>BEVERAGES - NON-ALCOHOLIC</td>\n",
       "      <td>5</td>\n",
       "    </tr>\n",
       "  </tbody>\n",
       "</table>\n",
       "<p>147 rows × 2 columns</p>\n",
       "</div>"
      ],
      "text/plain": [
       "                                       INDUSTRY  FREQUENCY\n",
       "0                                   MAJOR BANKS       1130\n",
       "1    BIOTECHNOLOGY: PHARMACEUTICAL PREPARATIONS        840\n",
       "2                 REAL ESTATE INVESTMENT TRUSTS        645\n",
       "3               INDUSTRIAL MACHINERY/COMPONENTS        425\n",
       "4                                  EDP SERVICES        420\n",
       "..                                          ...        ...\n",
       "142                       PRECISION INSTRUMENTS          5\n",
       "143                               DURABLE GOODS          5\n",
       "144       SERVICES-MISC. AMUSEMENT & RECREATION          5\n",
       "145             DIVERSIFIED ELECTRONIC PRODUCTS          5\n",
       "146                   BEVERAGES - NON-ALCOHOLIC          5\n",
       "\n",
       "[147 rows x 2 columns]"
      ]
     },
     "execution_count": 4,
     "metadata": {},
     "output_type": "execute_result"
    }
   ],
   "source": [
    "cat_df = pd.DataFrame(sec10k[\"INDUSTRY\"].value_counts())\n",
    "cat_df = cat_df.reset_index()\n",
    "cat_df.columns = [\"INDUSTRY\",\"FREQUENCY\"]\n",
    "cat_df"
   ]
  },
  {
   "cell_type": "markdown",
   "metadata": {
    "collapsed": false,
    "pycharm": {
     "name": "#%% md\n"
    }
   },
   "source": [
    "Remove UNSPECIFIED from Country and Industry but only on SP_500 = 0"
   ]
  },
  {
   "cell_type": "code",
   "execution_count": 5,
   "metadata": {
    "collapsed": false,
    "pycharm": {
     "name": "#%%\n"
    }
   },
   "outputs": [],
   "source": [
    "def improve_data(input_df):\n",
    "    # REMOVE unspecified\n",
    "    sec10k_df = input_df.copy()\n",
    "    display(sec10k_df.shape)\n",
    "    # Banks, Finance, Savings into a Single Category\n",
    "    sec10k_df[\"INDUSTRY\"] = np.where(sec10k_df[\"INDUSTRY\"].str.contains(\"BANK|FINANCE|SAVINGS|INVESTMENT\") == True,\n",
    "                                     \"FINANCIAL\", sec10k_df[\"INDUSTRY\"])\n",
    "    # BIOTECHNOLOGY into a single category\n",
    "    sec10k_df[\"INDUSTRY\"] = np.where(sec10k_df[\"INDUSTRY\"].str.contains(\"BIOTECHNOLOGY\") == True,\n",
    "                                     \"BIOTECHNOLOGY\", sec10k_df[\"INDUSTRY\"])\n",
    "\n",
    "    display(sec10k_df.shape)\n",
    "    # Power, Utilities, Water into UTILITIES\n",
    "    sec10k_df[\"INDUSTRY\"] = np.where(sec10k_df[\"INDUSTRY\"].str.contains(\"POWER|UTILITIES|WATER|ELECTRICITY\") == True,\n",
    "                                     \"UTILITIES\", sec10k_df[\"INDUSTRY\"])\n",
    "\n",
    "    display(sec10k_df.shape)\n",
    "    # OIL, OILFIELD into ENERGY\n",
    "    sec10k_df[\"INDUSTRY\"] = np.where(sec10k_df[\"INDUSTRY\"].str.contains(\"OIL|OILFIELD|COAL\") == True,\n",
    "                                     \"ENERGY\", sec10k_df[\"INDUSTRY\"])\n",
    "\n",
    "    display(sec10k_df.shape)\n",
    "    # HOMEBUILDING, ESTATE, PROPERTY into REAL ESTATE\n",
    "    sec10k_df[\"INDUSTRY\"] = np.where(sec10k_df[\"INDUSTRY\"].str.contains(\"HOME|HOMEBUILDING|ESTATE|PROPERTY\") == True,\n",
    "                                     \"REAL ESTATE\", sec10k_df[\"INDUSTRY\"])\n",
    "\n",
    "    display(sec10k_df.shape)\n",
    "    #  RETAIL, STORES to RETAIL\n",
    "    sec10k_df[\"INDUSTRY\"] = np.where(sec10k_df[\"INDUSTRY\"].str.contains(\"RETAIL|STORES\") == True,\n",
    "                                     \"RETAIL\", sec10k_df[\"INDUSTRY\"])\n",
    "\n",
    "    display(sec10k_df.shape)\n",
    "    # FREIGHT into FREIGHT\n",
    "    sec10k_df[\"INDUSTRY\"] = np.where(sec10k_df[\"INDUSTRY\"].str.contains(\"FREIGHT\") == True,\n",
    "                                     \"FREIGHT\", sec10k_df[\"INDUSTRY\"])\n",
    "\n",
    "    display(sec10k_df.shape)\n",
    "    # FOOD, BEVERAGE to FOOD AND BEVERAGE\n",
    "    sec10k_df[\"INDUSTRY\"] = np.where(sec10k_df[\"INDUSTRY\"].str.contains(\"FOOD|BEVERAGE\") == True,\n",
    "                                     \"FOOD AND BEVERAGE\", sec10k_df[\"INDUSTRY\"])\n",
    "\n",
    "    display(sec10k_df.shape)\n",
    "    # RAILROADS, TRANSPORTATION to TRANSPORTATION\n",
    "    sec10k_df[\"INDUSTRY\"] = np.where(sec10k_df[\"INDUSTRY\"].str.contains(\"RAILROADS|TRANSPORTATION\") == True,\n",
    "                                     \"TRANSPORTATION\", sec10k_df[\"INDUSTRY\"])\n",
    "\n",
    "    display(sec10k_df.shape)\n",
    "    display(sec10k_df.head(10))\n",
    "    return sec10k_df\n"
   ]
  },
  {
   "cell_type": "markdown",
   "metadata": {
    "collapsed": false,
    "pycharm": {
     "name": "#%% md\n"
    }
   },
   "source": [
    "# Improve Main Data"
   ]
  },
  {
   "cell_type": "code",
   "execution_count": 6,
   "metadata": {
    "collapsed": false,
    "pycharm": {
     "name": "#%%\n"
    }
   },
   "outputs": [
    {
     "data": {
      "text/plain": [
       "(17095, 11)"
      ]
     },
     "metadata": {},
     "output_type": "display_data"
    },
    {
     "data": {
      "text/plain": [
       "(17095, 11)"
      ]
     },
     "metadata": {},
     "output_type": "display_data"
    },
    {
     "data": {
      "text/plain": [
       "(17095, 11)"
      ]
     },
     "metadata": {},
     "output_type": "display_data"
    },
    {
     "data": {
      "text/plain": [
       "(17095, 11)"
      ]
     },
     "metadata": {},
     "output_type": "display_data"
    },
    {
     "data": {
      "text/plain": [
       "(17095, 11)"
      ]
     },
     "metadata": {},
     "output_type": "display_data"
    },
    {
     "data": {
      "text/plain": [
       "(17095, 11)"
      ]
     },
     "metadata": {},
     "output_type": "display_data"
    },
    {
     "data": {
      "text/plain": [
       "(17095, 11)"
      ]
     },
     "metadata": {},
     "output_type": "display_data"
    },
    {
     "data": {
      "text/plain": [
       "(17095, 11)"
      ]
     },
     "metadata": {},
     "output_type": "display_data"
    },
    {
     "data": {
      "text/plain": [
       "(17095, 11)"
      ]
     },
     "metadata": {},
     "output_type": "display_data"
    },
    {
     "data": {
      "text/html": [
       "<div>\n",
       "<style scoped>\n",
       "    .dataframe tbody tr th:only-of-type {\n",
       "        vertical-align: middle;\n",
       "    }\n",
       "\n",
       "    .dataframe tbody tr th {\n",
       "        vertical-align: top;\n",
       "    }\n",
       "\n",
       "    .dataframe thead th {\n",
       "        text-align: right;\n",
       "    }\n",
       "</style>\n",
       "<table border=\"1\" class=\"dataframe\">\n",
       "  <thead>\n",
       "    <tr style=\"text-align: right;\">\n",
       "      <th></th>\n",
       "      <th>ID_CIK_YEAR</th>\n",
       "      <th>CIK</th>\n",
       "      <th>YEAR</th>\n",
       "      <th>CLEANED_ITEM_1A</th>\n",
       "      <th>CLEANED_ITEM_7</th>\n",
       "      <th>CLEANED_ITEM_7A</th>\n",
       "      <th>SP_500</th>\n",
       "      <th>SYMBOL</th>\n",
       "      <th>COMPANY</th>\n",
       "      <th>COUNTRY</th>\n",
       "      <th>INDUSTRY</th>\n",
       "    </tr>\n",
       "  </thead>\n",
       "  <tbody>\n",
       "    <tr>\n",
       "      <th>0</th>\n",
       "      <td>ID_0000008858_2019</td>\n",
       "      <td>0000008858</td>\n",
       "      <td>2019</td>\n",
       "      <td>principal risks inherent business affected fac...</td>\n",
       "      <td>condition results operations dollars millions ...</td>\n",
       "      <td>risk exposure market risk includes fluctuating...</td>\n",
       "      <td>0</td>\n",
       "      <td>AVT</td>\n",
       "      <td>AVNET INC. COMMON STOCK</td>\n",
       "      <td>UNITED STATES</td>\n",
       "      <td>ELECTRONIC COMPONENTS</td>\n",
       "    </tr>\n",
       "    <tr>\n",
       "      <th>1</th>\n",
       "      <td>ID_0000067347_2021</td>\n",
       "      <td>0000067347</td>\n",
       "      <td>2021</td>\n",
       "      <td>risks inherent business risks uncertainties de...</td>\n",
       "      <td>condition results operations dollars millions ...</td>\n",
       "      <td>exposure market risk includes fluctuating inte...</td>\n",
       "      <td>0</td>\n",
       "      <td>MOD</td>\n",
       "      <td>MODINE MANUFACTURING COMPANY COMMON STOCK</td>\n",
       "      <td>UNITED STATES</td>\n",
       "      <td>AUTO PARTS:O.E.M.</td>\n",
       "    </tr>\n",
       "    <tr>\n",
       "      <th>2</th>\n",
       "      <td>ID_0000030697_2018</td>\n",
       "      <td>0000030697</td>\n",
       "      <td>2018</td>\n",
       "      <td>principal risks inherent business affected fac...</td>\n",
       "      <td>condition results operations dollars millions ...</td>\n",
       "      <td>risk exposure market risk includes fluctuating...</td>\n",
       "      <td>0</td>\n",
       "      <td>WEN</td>\n",
       "      <td>WENDY'S COMPANY (THE) COMMON STOCK</td>\n",
       "      <td>UNITED STATES</td>\n",
       "      <td>RESTAURANTS</td>\n",
       "    </tr>\n",
       "    <tr>\n",
       "      <th>3</th>\n",
       "      <td>ID_0000072444_2017</td>\n",
       "      <td>0000072444</td>\n",
       "      <td>2017</td>\n",
       "      <td>principal risks inherent business affected fac...</td>\n",
       "      <td>condition results operations dollars millions ...</td>\n",
       "      <td>risk dollars millions exposure market risk inc...</td>\n",
       "      <td>0</td>\n",
       "      <td>VXRT</td>\n",
       "      <td>VAXART INC COMMON STOCK</td>\n",
       "      <td>UNITED STATES</td>\n",
       "      <td>BIOTECHNOLOGY</td>\n",
       "    </tr>\n",
       "    <tr>\n",
       "      <th>4</th>\n",
       "      <td>ID_0000065596_2020</td>\n",
       "      <td>0000065596</td>\n",
       "      <td>2020</td>\n",
       "      <td>risks inherent businesswe affected factors adv...</td>\n",
       "      <td>condition results operations dollars millions ...</td>\n",
       "      <td>exposure market risk includes fluctuating inte...</td>\n",
       "      <td>0</td>\n",
       "      <td>SIEB</td>\n",
       "      <td>SIEBERT FINANCIAL CORP. COMMON STOCK</td>\n",
       "      <td>UNITED STATES</td>\n",
       "      <td>FINANCIAL</td>\n",
       "    </tr>\n",
       "    <tr>\n",
       "      <th>5</th>\n",
       "      <td>ID_0000072162_2020</td>\n",
       "      <td>0000072162</td>\n",
       "      <td>2020</td>\n",
       "      <td>risks inherent businesswe affected factors adv...</td>\n",
       "      <td>condition results operations dollars millions ...</td>\n",
       "      <td>exposure market risk includes fluctuating inte...</td>\n",
       "      <td>0</td>\n",
       "      <td>NL</td>\n",
       "      <td>NL INDUSTRIES INC. COMMON STOCK</td>\n",
       "      <td>UNITED STATES</td>\n",
       "      <td>DIVERSIFIED COMMERCIAL SERVICES</td>\n",
       "    </tr>\n",
       "    <tr>\n",
       "      <th>6</th>\n",
       "      <td>ID_0000069488_2020</td>\n",
       "      <td>0000069488</td>\n",
       "      <td>2020</td>\n",
       "      <td>risks inherent businesswe affected factors adv...</td>\n",
       "      <td>condition results operations dollars millions ...</td>\n",
       "      <td>exposure market risk includes fluctuating inte...</td>\n",
       "      <td>0</td>\n",
       "      <td>MYE</td>\n",
       "      <td>MYERS INDUSTRIES INC. COMMON STOCK</td>\n",
       "      <td>UNITED STATES</td>\n",
       "      <td>AUTO PARTS:O.E.M.</td>\n",
       "    </tr>\n",
       "    <tr>\n",
       "      <th>7</th>\n",
       "      <td>ID_0000059440_2018</td>\n",
       "      <td>0000059440</td>\n",
       "      <td>2018</td>\n",
       "      <td>principal risks inherent business affected fac...</td>\n",
       "      <td>condition results operations dollars millions ...</td>\n",
       "      <td>risk exposure market risk includes fluctuating...</td>\n",
       "      <td>0</td>\n",
       "      <td>VGR</td>\n",
       "      <td>VECTOR GROUP LTD. COMMON STOCK</td>\n",
       "      <td>UNITED STATES</td>\n",
       "      <td>FARMING/SEEDS/MILLING</td>\n",
       "    </tr>\n",
       "    <tr>\n",
       "      <th>8</th>\n",
       "      <td>ID_0000033533_2020</td>\n",
       "      <td>0000033533</td>\n",
       "      <td>2020</td>\n",
       "      <td>risks inherent businesswe affected factors adv...</td>\n",
       "      <td>condition results operations dollars millions ...</td>\n",
       "      <td>exposure market risk includes fluctuating inte...</td>\n",
       "      <td>0</td>\n",
       "      <td>NaN</td>\n",
       "      <td>NaN</td>\n",
       "      <td>NaN</td>\n",
       "      <td>NaN</td>\n",
       "    </tr>\n",
       "    <tr>\n",
       "      <th>9</th>\n",
       "      <td>ID_0000005513_2021</td>\n",
       "      <td>0000005513</td>\n",
       "      <td>2021</td>\n",
       "      <td>risks inherent business risks uncertainties de...</td>\n",
       "      <td>condition results operations dollars millions ...</td>\n",
       "      <td>exposure market risk includes fluctuating inte...</td>\n",
       "      <td>0</td>\n",
       "      <td>UNM</td>\n",
       "      <td>UNUM GROUP COMMON STOCK</td>\n",
       "      <td>UNITED STATES</td>\n",
       "      <td>ACCIDENT &amp;HEALTH INSURANCE</td>\n",
       "    </tr>\n",
       "  </tbody>\n",
       "</table>\n",
       "</div>"
      ],
      "text/plain": [
       "          ID_CIK_YEAR         CIK  YEAR  \\\n",
       "0  ID_0000008858_2019  0000008858  2019   \n",
       "1  ID_0000067347_2021  0000067347  2021   \n",
       "2  ID_0000030697_2018  0000030697  2018   \n",
       "3  ID_0000072444_2017  0000072444  2017   \n",
       "4  ID_0000065596_2020  0000065596  2020   \n",
       "5  ID_0000072162_2020  0000072162  2020   \n",
       "6  ID_0000069488_2020  0000069488  2020   \n",
       "7  ID_0000059440_2018  0000059440  2018   \n",
       "8  ID_0000033533_2020  0000033533  2020   \n",
       "9  ID_0000005513_2021  0000005513  2021   \n",
       "\n",
       "                                     CLEANED_ITEM_1A  \\\n",
       "0  principal risks inherent business affected fac...   \n",
       "1  risks inherent business risks uncertainties de...   \n",
       "2  principal risks inherent business affected fac...   \n",
       "3  principal risks inherent business affected fac...   \n",
       "4  risks inherent businesswe affected factors adv...   \n",
       "5  risks inherent businesswe affected factors adv...   \n",
       "6  risks inherent businesswe affected factors adv...   \n",
       "7  principal risks inherent business affected fac...   \n",
       "8  risks inherent businesswe affected factors adv...   \n",
       "9  risks inherent business risks uncertainties de...   \n",
       "\n",
       "                                      CLEANED_ITEM_7  \\\n",
       "0  condition results operations dollars millions ...   \n",
       "1  condition results operations dollars millions ...   \n",
       "2  condition results operations dollars millions ...   \n",
       "3  condition results operations dollars millions ...   \n",
       "4  condition results operations dollars millions ...   \n",
       "5  condition results operations dollars millions ...   \n",
       "6  condition results operations dollars millions ...   \n",
       "7  condition results operations dollars millions ...   \n",
       "8  condition results operations dollars millions ...   \n",
       "9  condition results operations dollars millions ...   \n",
       "\n",
       "                                     CLEANED_ITEM_7A  SP_500 SYMBOL  \\\n",
       "0  risk exposure market risk includes fluctuating...       0    AVT   \n",
       "1  exposure market risk includes fluctuating inte...       0    MOD   \n",
       "2  risk exposure market risk includes fluctuating...       0    WEN   \n",
       "3  risk dollars millions exposure market risk inc...       0   VXRT   \n",
       "4  exposure market risk includes fluctuating inte...       0   SIEB   \n",
       "5  exposure market risk includes fluctuating inte...       0     NL   \n",
       "6  exposure market risk includes fluctuating inte...       0    MYE   \n",
       "7  risk exposure market risk includes fluctuating...       0    VGR   \n",
       "8  exposure market risk includes fluctuating inte...       0    NaN   \n",
       "9  exposure market risk includes fluctuating inte...       0    UNM   \n",
       "\n",
       "                                     COMPANY        COUNTRY  \\\n",
       "0                    AVNET INC. COMMON STOCK  UNITED STATES   \n",
       "1  MODINE MANUFACTURING COMPANY COMMON STOCK  UNITED STATES   \n",
       "2         WENDY'S COMPANY (THE) COMMON STOCK  UNITED STATES   \n",
       "3                    VAXART INC COMMON STOCK  UNITED STATES   \n",
       "4       SIEBERT FINANCIAL CORP. COMMON STOCK  UNITED STATES   \n",
       "5            NL INDUSTRIES INC. COMMON STOCK  UNITED STATES   \n",
       "6         MYERS INDUSTRIES INC. COMMON STOCK  UNITED STATES   \n",
       "7             VECTOR GROUP LTD. COMMON STOCK  UNITED STATES   \n",
       "8                                        NaN            NaN   \n",
       "9                    UNUM GROUP COMMON STOCK  UNITED STATES   \n",
       "\n",
       "                          INDUSTRY  \n",
       "0            ELECTRONIC COMPONENTS  \n",
       "1                AUTO PARTS:O.E.M.  \n",
       "2                      RESTAURANTS  \n",
       "3                    BIOTECHNOLOGY  \n",
       "4                        FINANCIAL  \n",
       "5  DIVERSIFIED COMMERCIAL SERVICES  \n",
       "6                AUTO PARTS:O.E.M.  \n",
       "7            FARMING/SEEDS/MILLING  \n",
       "8                              NaN  \n",
       "9       ACCIDENT &HEALTH INSURANCE  "
      ]
     },
     "metadata": {},
     "output_type": "display_data"
    }
   ],
   "source": [
    "# Write to CSV\n",
    "sec10k_impv = improve_data(sec10k)\n",
    "sec10k_impv.to_csv(os.path.join(ML_DATA_DIR, \"SEC_10K_CIK_TickerProfile_Improved.csv\"), index = False)"
   ]
  },
  {
   "cell_type": "code",
   "execution_count": 7,
   "metadata": {
    "collapsed": false,
    "pycharm": {
     "name": "#%%\n"
    }
   },
   "outputs": [
    {
     "data": {
      "text/plain": [
       "FINANCIAL                                         2475\n",
       "BIOTECHNOLOGY                                     1285\n",
       "ENERGY                                             570\n",
       "REAL ESTATE                                        465\n",
       "INDUSTRIAL MACHINERY/COMPONENTS                    425\n",
       "                                                  ... \n",
       "EDP PERIPHERALS                                      5\n",
       "SERVICES-MISC. AMUSEMENT & RECREATION                5\n",
       "TOOLS/HARDWARE                                       5\n",
       "MOTOR VEHICLES                                       5\n",
       "COMPUTER SOFTWARE: PROGRAMMING DATA PROCESSING       5\n",
       "Name: INDUSTRY, Length: 108, dtype: int64"
      ]
     },
     "execution_count": 7,
     "metadata": {},
     "output_type": "execute_result"
    }
   ],
   "source": [
    "sec10k_impv[\"INDUSTRY\"].value_counts()"
   ]
  },
  {
   "cell_type": "code",
   "execution_count": 8,
   "metadata": {
    "collapsed": false,
    "pycharm": {
     "name": "#%%\n"
    }
   },
   "outputs": [
    {
     "data": {
      "text/plain": [
       "0    14415\n",
       "1     2680\n",
       "Name: SP_500, dtype: int64"
      ]
     },
     "execution_count": 8,
     "metadata": {},
     "output_type": "execute_result"
    }
   ],
   "source": [
    "sec10k_impv[\"SP_500\"].value_counts()"
   ]
  },
  {
   "cell_type": "markdown",
   "metadata": {
    "collapsed": false,
    "pycharm": {
     "name": "#%% md\n"
    }
   },
   "source": [
    "# Improve Candidates Dataset"
   ]
  },
  {
   "cell_type": "code",
   "execution_count": null,
   "metadata": {
    "collapsed": false,
    "pycharm": {
     "name": "#%%\n"
    }
   },
   "outputs": [],
   "source": [
    "candidates = pd.read_csv(os.path.join(ML_DATA_DIR, \"SEC_10K_CIK_TickerProfile_Candidates.csv\"), dtype = {\"CIK\":\"str\"})\n",
    "\n",
    "candidates_impv = improve_data(candidates)\n",
    "\n",
    "candidates_impv.to_csv(os.path.join(ML_DATA_DIR, \"SEC_10K_CIK_TickerProfile_Candidates_Improved.csv\"), index = False)"
   ]
  },
  {
   "cell_type": "code",
   "execution_count": null,
   "metadata": {
    "collapsed": false,
    "pycharm": {
     "name": "#%%\n"
    }
   },
   "outputs": [],
   "source": []
  }
 ],
 "metadata": {
  "kernelspec": {
   "display_name": "Python 3",
   "language": "python",
   "name": "python3"
  },
  "language_info": {
   "codemirror_mode": {
    "name": "ipython",
    "version": 2
   },
   "file_extension": ".py",
   "mimetype": "text/x-python",
   "name": "python",
   "nbconvert_exporter": "python",
   "pygments_lexer": "ipython2",
   "version": "2.7.6"
  }
 },
 "nbformat": 4,
 "nbformat_minor": 0
}
