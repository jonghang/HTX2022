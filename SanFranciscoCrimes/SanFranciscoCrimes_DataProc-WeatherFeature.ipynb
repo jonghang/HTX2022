{
 "cells": [
  {
   "cell_type": "markdown",
   "id": "42c0ba75-ece4-4b1d-b434-2489fb78a804",
   "metadata": {
    "pycharm": {
     "name": "#%% md\n"
    }
   },
   "source": [
    "# Prepare Datasets for DAI Join Demo"
   ]
  },
  {
   "cell_type": "code",
   "execution_count": 1,
   "id": "0db47921-bba1-4ade-a509-5dbd2c0ac6a5",
   "metadata": {
    "pycharm": {
     "name": "#%%\n"
    }
   },
   "outputs": [],
   "source": [
    "import os\n",
    "import pandas as pd\n",
    "import numpy as np\n",
    "import matplotlib.pyplot as plt\n",
    "import seaborn as sns"
   ]
  },
  {
   "cell_type": "code",
   "execution_count": 2,
   "id": "d6e23d6b-2f92-4074-ae23-0bbf14039ef9",
   "metadata": {
    "pycharm": {
     "name": "#%%\n"
    }
   },
   "outputs": [],
   "source": [
    "DATA_DIR = os.path.join(os.environ[\"HOME\"], \"Datasets\",\"HTX_Hackathon\",\"San_Francisco_Crimes\")"
   ]
  },
  {
   "cell_type": "markdown",
   "id": "f5f95c08-9f45-4255-b0cb-3cc30064d7c2",
   "metadata": {
    "pycharm": {
     "name": "#%% md\n"
    }
   },
   "source": [
    "# Read Data"
   ]
  },
  {
   "cell_type": "code",
   "execution_count": 10,
   "id": "372343f2-93ca-4f64-895e-1aa41fb36e26",
   "metadata": {
    "pycharm": {
     "name": "#%%\n"
    }
   },
   "outputs": [
    {
     "data": {
      "text/plain": [
       "(35005, 4)"
      ]
     },
     "metadata": {},
     "output_type": "display_data"
    },
    {
     "data": {
      "text/html": [
       "<div>\n",
       "<style scoped>\n",
       "    .dataframe tbody tr th:only-of-type {\n",
       "        vertical-align: middle;\n",
       "    }\n",
       "\n",
       "    .dataframe tbody tr th {\n",
       "        vertical-align: top;\n",
       "    }\n",
       "\n",
       "    .dataframe thead th {\n",
       "        text-align: right;\n",
       "    }\n",
       "</style>\n",
       "<table border=\"1\" class=\"dataframe\">\n",
       "  <thead>\n",
       "    <tr style=\"text-align: right;\">\n",
       "      <th></th>\n",
       "      <th>PdDistrict</th>\n",
       "      <th>HEX_ID</th>\n",
       "      <th>LAT</th>\n",
       "      <th>LON</th>\n",
       "    </tr>\n",
       "  </thead>\n",
       "  <tbody>\n",
       "    <tr>\n",
       "      <th>0</th>\n",
       "      <td>NORTHERN</td>\n",
       "      <td>8a2830828327fff</td>\n",
       "      <td>37.774599</td>\n",
       "      <td>-122.425892</td>\n",
       "    </tr>\n",
       "    <tr>\n",
       "      <th>2</th>\n",
       "      <td>NORTHERN</td>\n",
       "      <td>8a283082b3affff</td>\n",
       "      <td>37.800414</td>\n",
       "      <td>-122.424363</td>\n",
       "    </tr>\n",
       "    <tr>\n",
       "      <th>3</th>\n",
       "      <td>NORTHERN</td>\n",
       "      <td>8a283082b227fff</td>\n",
       "      <td>37.800873</td>\n",
       "      <td>-122.426995</td>\n",
       "    </tr>\n",
       "    <tr>\n",
       "      <th>4</th>\n",
       "      <td>PARK</td>\n",
       "      <td>8a283082d6c7fff</td>\n",
       "      <td>37.771541</td>\n",
       "      <td>-122.438738</td>\n",
       "    </tr>\n",
       "    <tr>\n",
       "      <th>5</th>\n",
       "      <td>INGLESIDE</td>\n",
       "      <td>8a28309564dffff</td>\n",
       "      <td>37.713431</td>\n",
       "      <td>-122.403252</td>\n",
       "    </tr>\n",
       "    <tr>\n",
       "      <th>6</th>\n",
       "      <td>INGLESIDE</td>\n",
       "      <td>8a2830952baffff</td>\n",
       "      <td>37.725138</td>\n",
       "      <td>-122.423327</td>\n",
       "    </tr>\n",
       "    <tr>\n",
       "      <th>7</th>\n",
       "      <td>BAYVIEW</td>\n",
       "      <td>8a28308208effff</td>\n",
       "      <td>37.727564</td>\n",
       "      <td>-122.371274</td>\n",
       "    </tr>\n",
       "    <tr>\n",
       "      <th>8</th>\n",
       "      <td>RICHMOND</td>\n",
       "      <td>8a2830959697fff</td>\n",
       "      <td>37.776601</td>\n",
       "      <td>-122.508194</td>\n",
       "    </tr>\n",
       "    <tr>\n",
       "      <th>9</th>\n",
       "      <td>CENTRAL</td>\n",
       "      <td>8a283080d9b7fff</td>\n",
       "      <td>37.807802</td>\n",
       "      <td>-122.419088</td>\n",
       "    </tr>\n",
       "    <tr>\n",
       "      <th>11</th>\n",
       "      <td>TARAVAL</td>\n",
       "      <td>8a283095c0d7fff</td>\n",
       "      <td>37.737667</td>\n",
       "      <td>-122.487983</td>\n",
       "    </tr>\n",
       "  </tbody>\n",
       "</table>\n",
       "</div>"
      ],
      "text/plain": [
       "   PdDistrict           HEX_ID        LAT         LON\n",
       "0    NORTHERN  8a2830828327fff  37.774599 -122.425892\n",
       "2    NORTHERN  8a283082b3affff  37.800414 -122.424363\n",
       "3    NORTHERN  8a283082b227fff  37.800873 -122.426995\n",
       "4        PARK  8a283082d6c7fff  37.771541 -122.438738\n",
       "5   INGLESIDE  8a28309564dffff  37.713431 -122.403252\n",
       "6   INGLESIDE  8a2830952baffff  37.725138 -122.423327\n",
       "7     BAYVIEW  8a28308208effff  37.727564 -122.371274\n",
       "8    RICHMOND  8a2830959697fff  37.776601 -122.508194\n",
       "9     CENTRAL  8a283080d9b7fff  37.807802 -122.419088\n",
       "11    TARAVAL  8a283095c0d7fff  37.737667 -122.487983"
      ]
     },
     "metadata": {},
     "output_type": "display_data"
    }
   ],
   "source": [
    "sfcrime = pd.read_csv(os.path.join(DATA_DIR, \"SF_Crimes_Geo.csv\"))\n",
    "sfcrime = sfcrime[[\"PdDistrict\",\"HEX_ID\", \"LAT\",\"LON\"]]\n",
    "\n",
    "sfcrime.drop_duplicates(inplace = True)\n",
    "\n",
    "display(sfcrime.shape)\n",
    "display(sfcrime.head(10))"
   ]
  },
  {
   "cell_type": "markdown",
   "id": "3d19bde1-19f2-4059-a576-e3250972b9cf",
   "metadata": {},
   "source": [
    "# Create District-HEX Lookup Data"
   ]
  },
  {
   "cell_type": "code",
   "execution_count": 15,
   "id": "44ff74a0-caee-430b-adc1-dd36c83d3355",
   "metadata": {},
   "outputs": [
    {
     "data": {
      "text/html": [
       "<div>\n",
       "<style scoped>\n",
       "    .dataframe tbody tr th:only-of-type {\n",
       "        vertical-align: middle;\n",
       "    }\n",
       "\n",
       "    .dataframe tbody tr th {\n",
       "        vertical-align: top;\n",
       "    }\n",
       "\n",
       "    .dataframe thead th {\n",
       "        text-align: right;\n",
       "    }\n",
       "</style>\n",
       "<table border=\"1\" class=\"dataframe\">\n",
       "  <thead>\n",
       "    <tr style=\"text-align: right;\">\n",
       "      <th></th>\n",
       "      <th>HEX_ID</th>\n",
       "      <th>PdDistrict</th>\n",
       "      <th>LAT</th>\n",
       "      <th>LON</th>\n",
       "    </tr>\n",
       "  </thead>\n",
       "  <tbody>\n",
       "    <tr>\n",
       "      <th>0</th>\n",
       "      <td>8a0326233ab7fff</td>\n",
       "      <td>PARK, INGLESIDE, RICHMOND, MISSION, BAYVIEW, T...</td>\n",
       "      <td>90.000000</td>\n",
       "      <td>-120.500000</td>\n",
       "    </tr>\n",
       "    <tr>\n",
       "      <th>1</th>\n",
       "      <td>8a283080168ffff</td>\n",
       "      <td>SOUTHERN</td>\n",
       "      <td>37.810114</td>\n",
       "      <td>-122.365089</td>\n",
       "    </tr>\n",
       "    <tr>\n",
       "      <th>2</th>\n",
       "      <td>8a28308016affff</td>\n",
       "      <td>SOUTHERN</td>\n",
       "      <td>37.809671</td>\n",
       "      <td>-122.365565</td>\n",
       "    </tr>\n",
       "    <tr>\n",
       "      <th>3</th>\n",
       "      <td>8a283080c807fff</td>\n",
       "      <td>CENTRAL, SOUTHERN, BAYVIEW</td>\n",
       "      <td>37.800464</td>\n",
       "      <td>-122.398752</td>\n",
       "    </tr>\n",
       "    <tr>\n",
       "      <th>4</th>\n",
       "      <td>8a283080c80ffff</td>\n",
       "      <td>CENTRAL</td>\n",
       "      <td>37.801475</td>\n",
       "      <td>-122.400362</td>\n",
       "    </tr>\n",
       "  </tbody>\n",
       "</table>\n",
       "</div>"
      ],
      "text/plain": [
       "            HEX_ID                                         PdDistrict  \\\n",
       "0  8a0326233ab7fff  PARK, INGLESIDE, RICHMOND, MISSION, BAYVIEW, T...   \n",
       "1  8a283080168ffff                                           SOUTHERN   \n",
       "2  8a28308016affff                                           SOUTHERN   \n",
       "3  8a283080c807fff                         CENTRAL, SOUTHERN, BAYVIEW   \n",
       "4  8a283080c80ffff                                            CENTRAL   \n",
       "\n",
       "         LAT         LON  \n",
       "0  90.000000 -120.500000  \n",
       "1  37.810114 -122.365089  \n",
       "2  37.809671 -122.365565  \n",
       "3  37.800464 -122.398752  \n",
       "4  37.801475 -122.400362  "
      ]
     },
     "metadata": {},
     "output_type": "display_data"
    }
   ],
   "source": [
    "sfcrime_hex_lookup = sfcrime.groupby(by = [\"HEX_ID\"], as_index = False) \\\n",
    "                    .agg({\"PdDistrict\": set,\n",
    "                          \"LAT\": np.mean,\n",
    "                          \"LON\": np.mean})\n",
    "\n",
    "sfcrime_hex_lookup[\"PdDistrict\"] = sfcrime_hex_lookup[\"PdDistrict\"].astype('str')\n",
    "sfcrime_hex_lookup[\"PdDistrict\"] = sfcrime_hex_lookup[\"PdDistrict\"] \\\n",
    "                                   .apply(lambda x: x[1:-1].replace(\"'\",\"\"))\n",
    "\n",
    "display(sfcrime_hex_lookup.head())"
   ]
  },
  {
   "cell_type": "code",
   "execution_count": 16,
   "id": "0e2deecb-4520-45c0-bc9b-d0b0ca540759",
   "metadata": {},
   "outputs": [],
   "source": [
    "sfcrime_hex_lookup.to_csv(os.path.join(DATA_DIR, \"SFCrime_Hex_Lookup.csv\"), index = False)"
   ]
  },
  {
   "cell_type": "code",
   "execution_count": null,
   "id": "e3db5cfe-0f91-4014-bc1f-ef418f67baf6",
   "metadata": {},
   "outputs": [],
   "source": []
  }
 ],
 "metadata": {
  "kernelspec": {
   "display_name": "Python 3 (ipykernel)",
   "language": "python",
   "name": "python3"
  },
  "language_info": {
   "codemirror_mode": {
    "name": "ipython",
    "version": 3
   },
   "file_extension": ".py",
   "mimetype": "text/x-python",
   "name": "python",
   "nbconvert_exporter": "python",
   "pygments_lexer": "ipython3",
   "version": "3.9.13"
  }
 },
 "nbformat": 4,
 "nbformat_minor": 5
}
